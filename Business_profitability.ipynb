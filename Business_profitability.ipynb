{
  "nbformat": 4,
  "nbformat_minor": 0,
  "metadata": {
    "colab": {
      "provenance": []
    },
    "kernelspec": {
      "name": "python3",
      "display_name": "Python 3"
    },
    "language_info": {
      "name": "python"
    }
  },
  "cells": [
    {
      "cell_type": "code",
      "source": [
        "!pip install pulp"
      ],
      "metadata": {
        "colab": {
          "base_uri": "https://localhost:8080/"
        },
        "id": "5YQGEX3oqZoH",
        "outputId": "6dcc5019-5036-4f37-bbbb-094ce303e4a5"
      },
      "execution_count": 2,
      "outputs": [
        {
          "output_type": "stream",
          "name": "stdout",
          "text": [
            "Collecting pulp\n",
            "  Downloading PuLP-2.9.0-py3-none-any.whl.metadata (5.4 kB)\n",
            "Downloading PuLP-2.9.0-py3-none-any.whl (17.7 MB)\n",
            "\u001b[2K   \u001b[90m━━━━━━━━━━━━━━━━━━━━━━━━━━━━━━━━━━━━━━━━\u001b[0m \u001b[32m17.7/17.7 MB\u001b[0m \u001b[31m13.5 MB/s\u001b[0m eta \u001b[36m0:00:00\u001b[0m\n",
            "\u001b[?25hInstalling collected packages: pulp\n",
            "Successfully installed pulp-2.9.0\n"
          ]
        }
      ]
    },
    {
      "cell_type": "code",
      "source": [
        "import pandas as pd\n",
        "from pulp import *"
      ],
      "metadata": {
        "id": "XpUrEnmYqcZx"
      },
      "execution_count": 3,
      "outputs": []
    },
    {
      "cell_type": "code",
      "source": [
        "# Optimize your Bakery Model\n",
        "\n",
        "# Parameters\n",
        "items = [\"A\", \"B\", \"C\", \"D\", \"E\", \"F\"]\n",
        "profit = {\"A\":6, \"B\":4.4, \"C\":7.5, \"D\":0.9, \"E\":1.2, \"F\":2.2}\n",
        "baker = {\"A\":50, \"B\":0, \"C\":45, \"D\":35, \"E\":25, \"F\":0}\n",
        "oven = {\"A\":45, \"B\":0, \"C\":90, \"D\":20, \"E\":45, \"F\":0}\n",
        "display = {\"A\":4, \"B\":1.5, \"C\":3, \"D\":1, \"E\":1, \"F\":1}\n",
        "assist = {\"A\":0, \"B\":12, \"C\":0, \"D\":0, \"E\":0, \"F\":8}"
      ],
      "metadata": {
        "id": "iYIG4l0zqgP2"
      },
      "execution_count": 4,
      "outputs": []
    },
    {
      "cell_type": "markdown",
      "source": [
        "### Initialize Linear Optimization Problem"
      ],
      "metadata": {
        "id": "_cwjXMvHqnfQ"
      }
    },
    {
      "cell_type": "code",
      "source": [
        "# Initiliaze Class\n",
        "model = LpProblem('Maximize Bakery Profits', LpMaximize)\n",
        "\n",
        "# 2. Define Decision Variables\n",
        "A = LpVariable('A', lowBound = 0, cat = 'Integer')\n",
        "B = LpVariable('B', lowBound = 0, cat = 'Integer')\n",
        "C = LpVariable('C', lowBound = 0, cat = 'Integer')\n",
        "D = LpVariable('D', lowBound = 0, cat = 'Integer')\n",
        "E = LpVariable('E', lowBound = 0, cat = 'Integer')\n",
        "F = LpVariable('F', lowBound = 0, cat = 'Integer')\n",
        "var_dict = {\"A\":A, \"B\":B, \"C\":C, \"D\":D, \"E\":E, \"F\":F}"
      ],
      "metadata": {
        "colab": {
          "base_uri": "https://localhost:8080/"
        },
        "id": "UStcQ2mMqizW",
        "outputId": "f6e3b47d-6d08-45d2-f1fa-a10fa8f609fb"
      },
      "execution_count": 5,
      "outputs": [
        {
          "output_type": "stream",
          "name": "stderr",
          "text": [
            "/usr/local/lib/python3.10/dist-packages/pulp/pulp.py:1298: UserWarning: Spaces are not permitted in the name. Converted to '_'\n",
            "  warnings.warn(\"Spaces are not permitted in the name. Converted to '_'\")\n"
          ]
        }
      ]
    },
    {
      "cell_type": "markdown",
      "source": [
        "### Add Objective Function"
      ],
      "metadata": {
        "id": "MNklgBkcq0bj"
      }
    },
    {
      "cell_type": "code",
      "source": [
        "# Define Objective Function\n",
        "model += lpSum([profit[i] * var_dict[i] for i in items])"
      ],
      "metadata": {
        "id": "G6g_y7r_q2pQ"
      },
      "execution_count": 6,
      "outputs": []
    },
    {
      "cell_type": "markdown",
      "source": [
        "### Add Constraints"
      ],
      "metadata": {
        "id": "zoVCJ_OZrAHB"
      }
    },
    {
      "cell_type": "code",
      "source": [
        "# 4. Define Constraints\n",
        "# Bakers\n",
        "model += lpSum([var_dict[i]*baker[i] for i in items]) <= 24*60\n",
        "# Oven\n",
        "model += lpSum([var_dict[i]*oven[i] for i in items]) <= 48*60\n",
        "# Assistant\n",
        "model += lpSum([var_dict[i]*assist[i] for i in items]) <= 4*60\n",
        "# Display\n",
        "model += lpSum([var_dict[i]*display[i] for i in items]) <= 100"
      ],
      "metadata": {
        "id": "NRcuoKjjq7sK"
      },
      "execution_count": 7,
      "outputs": []
    },
    {
      "cell_type": "markdown",
      "source": [
        "### Solve the model"
      ],
      "metadata": {
        "id": "D62FkDycrCUR"
      }
    },
    {
      "cell_type": "code",
      "source": [
        "# Names\n",
        "dict_name = dict(zip([\"A\", \"B\", \"C\", \"D\", \"E\", \"F\"],\n",
        "                     [\"Lemon Cake\", \"Sandwich\", \"Chocolate Cake\", \"Croissant\", \"Chocolate Eclair\", \"Panini\"]))\n",
        "\n",
        "# Solve Model\n",
        "model.solve()\n",
        "for v in model.variables():\n",
        "    print(dict_name[v.name], \"=\", int(v.varValue))\n",
        "print(\"{:,}/{:,} minutes of bakers used\".format(sum([var_dict[i].varValue*baker[i] for i in items]), 24*60))\n",
        "print(\"{:,}/{:,} minutes of oven used\".format(sum([var_dict[i].varValue*oven[i] for i in items]), 48*60))\n",
        "print(\"{:,}/{:,} minutes of assistant used\".format(sum([var_dict[i].varValue*assist[i] for i in items]), 4*60))\n",
        "print(\"{:,}/{:,} display slots\".format(sum([var_dict[i].varValue*display[i] for i in items]), 200))\n",
        "print(\"Profit reached: {:,} euros\".format(sum(var_dict[i].varValue * profit[i] for i in items)))"
      ],
      "metadata": {
        "colab": {
          "base_uri": "https://localhost:8080/"
        },
        "id": "ynKi7tHGrLay",
        "outputId": "ba2ad05c-92eb-44e1-cfe4-57ea090eb9f0"
      },
      "execution_count": 8,
      "outputs": [
        {
          "output_type": "stream",
          "name": "stdout",
          "text": [
            "Lemon Cake = 0\n",
            "Sandwich = 20\n",
            "Chocolate Cake = 23\n",
            "Croissant = 0\n",
            "Chocolate Eclair = 1\n",
            "Panini = 0\n",
            "1,060.0/1,440 minutes of bakers used\n",
            "2,115.0/2,880 minutes of oven used\n",
            "240.0/240 minutes of assistant used\n",
            "100.0/200 display slots\n",
            "Profit reached: 261.7 euros\n"
          ]
        }
      ]
    },
    {
      "cell_type": "code",
      "source": [],
      "metadata": {
        "id": "juq4ZjzKrOo6"
      },
      "execution_count": null,
      "outputs": []
    }
  ]
}